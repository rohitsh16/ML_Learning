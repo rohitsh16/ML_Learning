{
 "cells": [
  {
   "cell_type": "code",
   "execution_count": 1,
   "id": "based-teddy",
   "metadata": {},
   "outputs": [],
   "source": [
    "import pandas as pd"
   ]
  },
  {
   "cell_type": "code",
   "execution_count": 2,
   "id": "skilled-camcorder",
   "metadata": {},
   "outputs": [],
   "source": [
    "train  = pd.read_csv(\"/home/rohit/Downloads/train.csv\")"
   ]
  },
  {
   "cell_type": "code",
   "execution_count": 3,
   "id": "extreme-seafood",
   "metadata": {},
   "outputs": [],
   "source": [
    "train[\"Hyp\"] = 0"
   ]
  },
  {
   "cell_type": "code",
   "execution_count": 5,
   "id": "chinese-salad",
   "metadata": {},
   "outputs": [],
   "source": [
    "df = pd.read_csv(\"/home/rohit/Downloads/train.csv\")"
   ]
  },
  {
   "cell_type": "code",
   "execution_count": 9,
   "id": "civic-temple",
   "metadata": {},
   "outputs": [],
   "source": [
    "train.loc[train.Sex == \"female\", \"Hyp\"] = 1"
   ]
  },
  {
   "cell_type": "code",
   "execution_count": 10,
   "id": "productive-sitting",
   "metadata": {},
   "outputs": [],
   "source": [
    "train[\"Result\"] = 0"
   ]
  },
  {
   "cell_type": "code",
   "execution_count": 11,
   "id": "heavy-exhibit",
   "metadata": {},
   "outputs": [],
   "source": [
    "train.loc[train.Survived == train[\"Hyp\"], \"Result\"] = 1"
   ]
  },
  {
   "cell_type": "code",
   "execution_count": 12,
   "id": "stopped-intervention",
   "metadata": {},
   "outputs": [
    {
     "name": "stdout",
     "output_type": "stream",
     "text": [
      "1    701\n",
      "0    190\n",
      "Name: Result, dtype: int64\n"
     ]
    }
   ],
   "source": [
    "print (train[\"Result\"].value_counts())"
   ]
  },
  {
   "cell_type": "code",
   "execution_count": 13,
   "id": "powered-promise",
   "metadata": {},
   "outputs": [
    {
     "name": "stdout",
     "output_type": "stream",
     "text": [
      "1    0.786756\n",
      "0    0.213244\n",
      "Name: Result, dtype: float64\n"
     ]
    }
   ],
   "source": [
    "print (train[\"Result\"].value_counts(normalize=True))"
   ]
  },
  {
   "cell_type": "code",
   "execution_count": 14,
   "id": "provincial-honolulu",
   "metadata": {},
   "outputs": [],
   "source": [
    "def clean_data(data):\n",
    "    data[\"Fare\"] = data[\"Fare\"].fillna(data[\"Fare\"].dropna().median())\n",
    "    data[\"Age\"] = data[\"Age\"].fillna(data[\"Age\"].dropna().median())\n",
    "    \n",
    "    data.loc[data[\"Sex\"] == \"male\", \"Sex\"] = 0\n",
    "    data.loc[data[\"Sex\"] == \"female\", \"Sex\"] = 1\n",
    "    \n",
    "    data[\"Embarked\"] = data[\"Embarked\"].fillna(\"S\")\n",
    "    data.loc[data[\"Embarked\"] == \"S\", \"Embarked\"] = 0\n",
    "    data.loc[data[\"Embarked\"] == \"C\", \"Embarked\"] = 1\n",
    "    data.loc[data[\"Embarked\"] == \"Q\", \"Embarked\"] = 2"
   ]
  },
  {
   "cell_type": "code",
   "execution_count": null,
   "id": "human-botswana",
   "metadata": {},
   "outputs": [],
   "source": []
  }
 ],
 "metadata": {
  "kernelspec": {
   "display_name": "Python 3 (ipykernel)",
   "language": "python",
   "name": "python3"
  },
  "language_info": {
   "codemirror_mode": {
    "name": "ipython",
    "version": 3
   },
   "file_extension": ".py",
   "mimetype": "text/x-python",
   "name": "python",
   "nbconvert_exporter": "python",
   "pygments_lexer": "ipython3",
   "version": "3.8.10"
  }
 },
 "nbformat": 4,
 "nbformat_minor": 5
}
