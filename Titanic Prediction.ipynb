{
 "cells": [
  {
   "cell_type": "code",
   "execution_count": 3,
   "id": "spiritual-slope",
   "metadata": {},
   "outputs": [],
   "source": [
    "import pandas as pd"
   ]
  },
  {
   "cell_type": "code",
   "execution_count": 19,
   "id": "stainless-concern",
   "metadata": {},
   "outputs": [],
   "source": [
    "import utils"
   ]
  },
  {
   "cell_type": "code",
   "execution_count": 20,
   "id": "valuable-negative",
   "metadata": {},
   "outputs": [],
   "source": [
    "from sklearn import linear_model"
   ]
  },
  {
   "cell_type": "code",
   "execution_count": 21,
   "id": "following-czech",
   "metadata": {},
   "outputs": [],
   "source": [
    "train  = pd.read_csv(\"/home/rohit/Downloads/train.csv\")"
   ]
  },
  {
   "cell_type": "code",
   "execution_count": 25,
   "id": "theoretical-reporter",
   "metadata": {},
   "outputs": [],
   "source": [
    "def clean_data(data):\n",
    "    data[\"Fare\"] = data[\"Fare\"].fillna(data[\"Fare\"].dropna().median())\n",
    "    data[\"Age\"] = data[\"Age\"].fillna(data[\"Age\"].dropna().median())\n",
    "    \n",
    "    data.loc[data[\"Sex\"] == \"male\", \"Sex\"] = 0\n",
    "    data.loc[data[\"Sex\"] == \"female\", \"Sex\"] = 1\n",
    "    \n",
    "    data[\"Embarked\"] = data[\"Embarked\"].fillna(\"S\")\n",
    "    data.loc[data[\"Embarked\"] == \"S\", \"Embarked\"] = 0\n",
    "    data.loc[data[\"Embarked\"] == \"C\", \"Embarked\"] = 1\n",
    "    data.loc[data[\"Embarked\"] == \"Q\", \"Embarked\"] = 2"
   ]
  },
  {
   "cell_type": "code",
   "execution_count": 26,
   "id": "renewable-roommate",
   "metadata": {},
   "outputs": [],
   "source": [
    "clean_data(train)"
   ]
  },
  {
   "cell_type": "code",
   "execution_count": 27,
   "id": "unauthorized-belize",
   "metadata": {},
   "outputs": [],
   "source": [
    "target = train[\"Survived\"].values"
   ]
  },
  {
   "cell_type": "code",
   "execution_count": 33,
   "id": "iraqi-voice",
   "metadata": {},
   "outputs": [],
   "source": [
    "features = train[[\"Pclass\", \"Age\", \"Sex\", \"SibSp\", \"Parch\"]].values"
   ]
  },
  {
   "cell_type": "code",
   "execution_count": 37,
   "id": "artificial-india",
   "metadata": {},
   "outputs": [],
   "source": [
    "classifier = linear_model.LogisticRegression()"
   ]
  },
  {
   "cell_type": "code",
   "execution_count": 38,
   "id": "dense-baking",
   "metadata": {},
   "outputs": [],
   "source": [
    "classifier_ = classifier.fit(features, target)"
   ]
  },
  {
   "cell_type": "code",
   "execution_count": 40,
   "id": "complicated-leather",
   "metadata": {},
   "outputs": [
    {
     "name": "stdout",
     "output_type": "stream",
     "text": [
      "0.7912457912457912\n"
     ]
    }
   ],
   "source": [
    "print (classifier_.score(features, target))"
   ]
  },
  {
   "cell_type": "code",
   "execution_count": 42,
   "id": "turkish-brazilian",
   "metadata": {},
   "outputs": [],
   "source": [
    "from sklearn import preprocessing"
   ]
  },
  {
   "cell_type": "code",
   "execution_count": 43,
   "id": "arctic-cyprus",
   "metadata": {},
   "outputs": [],
   "source": [
    "poly = preprocessing.PolynomialFeatures(degree=2)\n",
    "poly_features = poly.fit_transform(features)"
   ]
  },
  {
   "cell_type": "code",
   "execution_count": 45,
   "id": "endangered-liverpool",
   "metadata": {},
   "outputs": [
    {
     "name": "stderr",
     "output_type": "stream",
     "text": [
      "/home/rohit/Desktop/ML/venv/lib/python3.8/site-packages/sklearn/linear_model/_logistic.py:763: ConvergenceWarning: lbfgs failed to converge (status=1):\n",
      "STOP: TOTAL NO. of ITERATIONS REACHED LIMIT.\n",
      "\n",
      "Increase the number of iterations (max_iter) or scale the data as shown in:\n",
      "    https://scikit-learn.org/stable/modules/preprocessing.html\n",
      "Please also refer to the documentation for alternative solver options:\n",
      "    https://scikit-learn.org/stable/modules/linear_model.html#logistic-regression\n",
      "  n_iter_i = _check_optimize_result(\n"
     ]
    }
   ],
   "source": [
    "classifier_ = classifier.fit(poly_features, target)"
   ]
  },
  {
   "cell_type": "code",
   "execution_count": 46,
   "id": "native-newton",
   "metadata": {},
   "outputs": [
    {
     "name": "stdout",
     "output_type": "stream",
     "text": [
      "0.8249158249158249\n"
     ]
    }
   ],
   "source": [
    "print (classifier_.score(poly_features, target))"
   ]
  },
  {
   "cell_type": "code",
   "execution_count": 51,
   "id": "stopped-float",
   "metadata": {},
   "outputs": [],
   "source": [
    "feature_names = [\"Pclass\", \"Age\", \"Sex\", \"SibSp\", \"Parch\"]"
   ]
  },
  {
   "cell_type": "code",
   "execution_count": 52,
   "id": "unlikely-challenge",
   "metadata": {},
   "outputs": [],
   "source": [
    "features = train[feature_names].values"
   ]
  },
  {
   "cell_type": "code",
   "execution_count": 53,
   "id": "aquatic-lawsuit",
   "metadata": {},
   "outputs": [],
   "source": [
    "from sklearn import tree"
   ]
  },
  {
   "cell_type": "code",
   "execution_count": 54,
   "id": "cooperative-consistency",
   "metadata": {},
   "outputs": [],
   "source": [
    "decision_tree = tree.DecisionTreeClassifier(random_state = 1)"
   ]
  },
  {
   "cell_type": "code",
   "execution_count": 56,
   "id": "incomplete-click",
   "metadata": {},
   "outputs": [],
   "source": [
    "decision_tree_ = decision_tree.fit(features, target)"
   ]
  },
  {
   "cell_type": "code",
   "execution_count": 58,
   "id": "lovely-artwork",
   "metadata": {},
   "outputs": [
    {
     "name": "stdout",
     "output_type": "stream",
     "text": [
      "0.9169472502805837\n"
     ]
    }
   ],
   "source": [
    "print (decision_tree_.score(features, target))"
   ]
  },
  {
   "cell_type": "code",
   "execution_count": null,
   "id": "bright-contents",
   "metadata": {},
   "outputs": [],
   "source": []
  },
  {
   "cell_type": "code",
   "execution_count": 60,
   "id": "mathematical-agenda",
   "metadata": {},
   "outputs": [],
   "source": [
    "from sklearn import model_selection"
   ]
  },
  {
   "cell_type": "code",
   "execution_count": 61,
   "id": "precise-placement",
   "metadata": {},
   "outputs": [],
   "source": [
    "scores = model_selection.cross_val_score(decision_tree, features, target, scoring = \"accuracy\", cv = 50)"
   ]
  },
  {
   "cell_type": "code",
   "execution_count": 62,
   "id": "acquired-quarter",
   "metadata": {},
   "outputs": [
    {
     "name": "stdout",
     "output_type": "stream",
     "text": [
      "[0.77777778 0.72222222 0.77777778 0.88888889 0.77777778 0.77777778\n",
      " 0.61111111 0.77777778 0.77777778 0.88888889 0.77777778 0.72222222\n",
      " 0.77777778 0.77777778 0.77777778 0.77777778 0.94444444 0.83333333\n",
      " 0.83333333 0.88888889 0.94444444 0.72222222 0.83333333 0.77777778\n",
      " 0.72222222 0.83333333 0.83333333 0.88888889 0.55555556 0.83333333\n",
      " 0.77777778 0.66666667 0.88888889 0.94444444 0.83333333 0.72222222\n",
      " 0.66666667 0.72222222 0.83333333 0.88888889 0.88888889 0.82352941\n",
      " 0.76470588 0.76470588 0.94117647 0.70588235 0.82352941 0.76470588\n",
      " 0.76470588 0.88235294]\n"
     ]
    }
   ],
   "source": [
    "print (scores)"
   ]
  },
  {
   "cell_type": "code",
   "execution_count": 64,
   "id": "clear-sheet",
   "metadata": {},
   "outputs": [
    {
     "name": "stdout",
     "output_type": "stream",
     "text": [
      "0.7980392156862745\n"
     ]
    }
   ],
   "source": [
    "print (scores.mean())"
   ]
  },
  {
   "cell_type": "code",
   "execution_count": 65,
   "id": "golden-address",
   "metadata": {},
   "outputs": [],
   "source": [
    "generalized_tree = tree.DecisionTreeClassifier(\n",
    "                    random_state = 1, \n",
    "                    max_depth = 7,\n",
    "                    min_samples_split = 2\n",
    ")"
   ]
  },
  {
   "cell_type": "code",
   "execution_count": 66,
   "id": "lucky-mission",
   "metadata": {},
   "outputs": [],
   "source": [
    "generalized_tree_ = generalized_tree.fit(features, target)"
   ]
  },
  {
   "cell_type": "code",
   "execution_count": 67,
   "id": "nearby-trouble",
   "metadata": {},
   "outputs": [
    {
     "name": "stdout",
     "output_type": "stream",
     "text": [
      "0.8529741863075196\n"
     ]
    }
   ],
   "source": [
    "print (generalized_tree_.score(features, target))"
   ]
  },
  {
   "cell_type": "code",
   "execution_count": 68,
   "id": "bulgarian-dubai",
   "metadata": {},
   "outputs": [],
   "source": [
    "scores = model_selection.cross_val_score(generalized_tree, features, target, scoring = \"accuracy\", cv = 50)"
   ]
  },
  {
   "cell_type": "code",
   "execution_count": 69,
   "id": "computational-stability",
   "metadata": {},
   "outputs": [
    {
     "name": "stdout",
     "output_type": "stream",
     "text": [
      "[0.88888889 0.72222222 0.77777778 0.94444444 0.72222222 0.83333333\n",
      " 0.55555556 0.77777778 0.77777778 0.94444444 0.83333333 0.77777778\n",
      " 0.83333333 0.77777778 0.66666667 0.66666667 0.94444444 0.77777778\n",
      " 0.88888889 0.94444444 0.94444444 0.72222222 0.77777778 0.77777778\n",
      " 0.77777778 0.77777778 0.83333333 0.83333333 0.61111111 0.88888889\n",
      " 0.72222222 0.72222222 0.83333333 0.83333333 0.88888889 0.77777778\n",
      " 0.72222222 0.77777778 0.77777778 0.77777778 0.83333333 0.88235294\n",
      " 0.76470588 0.88235294 0.94117647 0.76470588 0.76470588 0.82352941\n",
      " 0.94117647 0.88235294]\n"
     ]
    }
   ],
   "source": [
    "print (scores)"
   ]
  },
  {
   "cell_type": "code",
   "execution_count": 70,
   "id": "prerequisite-november",
   "metadata": {},
   "outputs": [
    {
     "name": "stdout",
     "output_type": "stream",
     "text": [
      "0.8062745098039216\n"
     ]
    }
   ],
   "source": [
    "print (scores.mean())"
   ]
  },
  {
   "cell_type": "code",
   "execution_count": 71,
   "id": "corporate-enemy",
   "metadata": {},
   "outputs": [],
   "source": [
    "tree.export_graphviz(generalized_tree_, feature_names = feature_names, out_file = \"tree.dot\")"
   ]
  },
  {
   "cell_type": "code",
   "execution_count": null,
   "id": "dominant-georgia",
   "metadata": {},
   "outputs": [],
   "source": []
  }
 ],
 "metadata": {
  "kernelspec": {
   "display_name": "Python 3 (ipykernel)",
   "language": "python",
   "name": "python3"
  },
  "language_info": {
   "codemirror_mode": {
    "name": "ipython",
    "version": 3
   },
   "file_extension": ".py",
   "mimetype": "text/x-python",
   "name": "python",
   "nbconvert_exporter": "python",
   "pygments_lexer": "ipython3",
   "version": "3.8.10"
  }
 },
 "nbformat": 4,
 "nbformat_minor": 5
}
